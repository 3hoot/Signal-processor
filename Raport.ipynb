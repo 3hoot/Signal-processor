{
 "cells": [
  {
   "cell_type": "markdown",
   "id": "9ad2a666-5011-4142-9cc0-63e06b9312e4",
   "metadata": {},
   "source": [
    "# TECHNIKI PROGRAMOWANIA - projekt 3\n",
    "## Mikołaj Kuryło 193743\n",
    "## Jan Magierski 198109\n",
    "\n",
    "Wykorzystane biblioteki:\n",
    "- matplotplusplus (c++)\n",
    "- pybind11 (c++)\n",
    "\n",
    "\n"
   ]
  },
  {
   "cell_type": "markdown",
   "id": "ec80aa8a-5c27-401e-ac9a-a2913e6f1017",
   "metadata": {},
   "source": [
    "# Generowanie sygnałów o zadanej częstotliwości i ich wizualicja z wykorzystaniem biblioteki matplotplusplus\n",
    "Przykłady implementacji funkcji generującej sygnał i ich wizualizacji dla odpowiednich przebiegów.\n",
    "1. Przebieg sinusoidalny"
   ]
  },
  {
   "cell_type": "code",
   "execution_count": 18,
   "id": "4c375dc6-3041-4674-80d1-c12a7bab446b",
   "metadata": {},
   "outputs": [],
   "source": [
    "import sys\n",
    "sys.path.append('build')\n",
    "import signal_processing\n",
    "\n",
    "wave_chrs = signal_processing.Wave(1,1,0)\n",
    "signal = signal_processing.Signal(0,100,1000,signal_processing.sin(wave_chrs))\n",
    "signal.show(\"\")"
   ]
  },
  {
   "cell_type": "markdown",
   "id": "29730329-a46c-4bce-8840-48e168c95db7",
   "metadata": {},
   "source": [
    "2. Przebieg cosinosuidalny"
   ]
  },
  {
   "cell_type": "code",
   "execution_count": 9,
   "id": "8758bb9c-e727-4065-adc1-ecda12cf84fd",
   "metadata": {},
   "outputs": [],
   "source": [
    "import sys\n",
    "sys.path.append('build')\n",
    "import signal_processing\n",
    "\n",
    "wave_chrs = signal_processing.Wave(1,1,0)\n",
    "signal = signal_processing.Signal(0,100,1000,signal_processing.cos(wave_chrs))\n",
    "signal.show(\"\")"
   ]
  },
  {
   "cell_type": "markdown",
   "id": "9f7cb49a-be1e-4ed8-8136-7e41649a74ca",
   "metadata": {},
   "source": [
    "3. Przebieg prostokątny"
   ]
  },
  {
   "cell_type": "code",
   "execution_count": 10,
   "id": "837cdd3a-9521-41fc-9373-a64cfb835a04",
   "metadata": {},
   "outputs": [],
   "source": [
    "import sys\n",
    "sys.path.append('build')\n",
    "import signal_processing\n",
    "\n",
    "wave_chrs = signal_processing.Wave(1,1,0)\n",
    "signal = signal_processing.Signal(0,100,1000,signal_processing.square(wave_chrs))\n",
    "signal.show(\"\")"
   ]
  },
  {
   "cell_type": "markdown",
   "id": "cd00144f-bfaf-4f3f-8a2d-40f9afd7f4ec",
   "metadata": {},
   "source": [
    "4. Przebieg piłokształtny"
   ]
  },
  {
   "cell_type": "code",
   "execution_count": 12,
   "id": "3323cdaf-3764-4b91-a3f7-e9cfa08aebb3",
   "metadata": {},
   "outputs": [],
   "source": [
    "import sys\n",
    "sys.path.append('build')\n",
    "import signal_processing\n",
    "\n",
    "wave_chrs = signal_processing.Wave(1,1,0)\n",
    "signal = signal_processing.Signal(0,100,1000,signal_processing.sawtooth(wave_chrs))\n",
    "signal.show(\"\")"
   ]
  },
  {
   "cell_type": "markdown",
   "id": "e9482e58-767f-4fa7-bc9b-16eb0916e668",
   "metadata": {},
   "source": [
    "# DFT i transformata odwrotna"
   ]
  },
  {
   "cell_type": "markdown",
   "id": "00f6fe2f-81b3-4b85-81a7-ce9b34d72f14",
   "metadata": {},
   "source": [
    "# Progowanie sygnału"
   ]
  }
 ],
 "metadata": {
  "kernelspec": {
   "display_name": "Python 3 (ipykernel)",
   "language": "python",
   "name": "python3"
  },
  "language_info": {
   "codemirror_mode": {
    "name": "ipython",
    "version": 3
   },
   "file_extension": ".py",
   "mimetype": "text/x-python",
   "name": "python",
   "nbconvert_exporter": "python",
   "pygments_lexer": "ipython3",
   "version": "3.12.3"
  }
 },
 "nbformat": 4,
 "nbformat_minor": 5
}
