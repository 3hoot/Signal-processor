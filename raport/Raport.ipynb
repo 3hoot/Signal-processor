{
 "cells": [
  {
   "cell_type": "markdown",
   "id": "9ad2a666-5011-4142-9cc0-63e06b9312e4",
   "metadata": {},
   "source": [
    "# TECHNIKI PROGRAMOWANIA - projekt 3\n",
    "## Mikołaj Kuryło 193743\n",
    "## Jan Magierski 198109\n",
    "\n",
    "Wykorzystane biblioteki:\n",
    "- matplotplusplus (c++)\n",
    "- pybind11 (c++)\n",
    "\n",
    "\n"
   ]
  },
  {
   "cell_type": "markdown",
   "id": "ec80aa8a-5c27-401e-ac9a-a2913e6f1017",
   "metadata": {},
   "source": [
    "# Generowanie sygnałów o zadanej częstotliwości i Wizualizacja sygnału z wykorzystaniem biblioteki matplotplusplus\n",
    "Przykłady implementacji funkcji generującej sygnał i ich wizualizacji dla odpowiednich przebiegów.\n",
    "1. Przebieg sinusoidalny."
   ]
  },
  {
   "cell_type": "code",
   "execution_count": 1,
   "id": "4c375dc6-3041-4674-80d1-c12a7bab446b",
   "metadata": {},
   "outputs": [],
   "source": [
    "import sys\n",
    "sys.path.append('../build')\n",
    "import signal_processing\n",
    "\n",
    "# ustawienie kolejno częstotliwości, amplitudy, przesunięcia\n",
    "wave_chrs = signal_processing.Wave(1,1,0)\n",
    "# ustawienie kolejno punktu początkowego na osi czasu, punktu końcowego na osi czasu, ilości próbek, rodzaju przebiegu\n",
    "signal = signal_processing.Signal(0,100,1000,signal_processing.sin(wave_chrs))\n",
    "# wyświetlenie sygnału\n",
    "signal.show(\"\")\n",
    "#zapisane jako sin_ex.png"
   ]
  },
  {
   "cell_type": "markdown",
   "id": "29730329-a46c-4bce-8840-48e168c95db7",
   "metadata": {},
   "source": [
    "2. Przebieg cosinosuidalny."
   ]
  },
  {
   "cell_type": "code",
   "execution_count": 26,
   "id": "8758bb9c-e727-4065-adc1-ecda12cf84fd",
   "metadata": {},
   "outputs": [],
   "source": [
    "wave_chrs = signal_processing.Wave(1,1,0)\n",
    "signal = signal_processing.Signal(0,100,1000,signal_processing.cos(wave_chrs))\n",
    "signal.show(\"\")\n",
    "# zapisane jako cos_ex.png"
   ]
  },
  {
   "cell_type": "markdown",
   "id": "9f7cb49a-be1e-4ed8-8136-7e41649a74ca",
   "metadata": {},
   "source": [
    "3. Przebieg prostokątny."
   ]
  },
  {
   "cell_type": "code",
   "execution_count": 27,
   "id": "837cdd3a-9521-41fc-9373-a64cfb835a04",
   "metadata": {},
   "outputs": [],
   "source": [
    "wave_chrs = signal_processing.Wave(1,1,0)\n",
    "signal = signal_processing.Signal(0,100,1000,signal_processing.square(wave_chrs))\n",
    "signal.show(\"\")\n",
    "#zapisane jako square_ex.png"
   ]
  },
  {
   "cell_type": "markdown",
   "id": "cd00144f-bfaf-4f3f-8a2d-40f9afd7f4ec",
   "metadata": {},
   "source": [
    "4. Przebieg piłokształtny."
   ]
  },
  {
   "cell_type": "code",
   "execution_count": 4,
   "id": "3323cdaf-3764-4b91-a3f7-e9cfa08aebb3",
   "metadata": {},
   "outputs": [],
   "source": [
    "wave_chrs = signal_processing.Wave(1,1,0)\n",
    "signal = signal_processing.Signal(0,100,1000,signal_processing.sawtooth(wave_chrs))\n",
    "signal.show(\"\")\n",
    "#zapisane jako sawtooth_ex.png"
   ]
  },
  {
   "cell_type": "markdown",
   "id": "e9482e58-767f-4fa7-bc9b-16eb0916e668",
   "metadata": {},
   "source": [
    "# DFT i transformata odwrotna\n",
    "Przykłady implementacji DFT  oraz transformaty odwrotnej dla sygnałów o różnych częstotliwościach w celu ukazania poprawności działania:\n",
    "- sin(1t)"
   ]
  },
  {
   "cell_type": "code",
   "execution_count": 8,
   "id": "54affa30-b653-45e2-a321-f64a2f45be83",
   "metadata": {},
   "outputs": [],
   "source": [
    "wave_chrs = signal_processing.Wave(1,1,0)\n",
    "signal = signal_processing.Signal(0,100,1000,signal_processing.sin(wave_chrs))# patrz sygnał ze zdjęcia sin_ex.png\n",
    "dft = signal_processing.DFTSignal(signal)\n",
    "dft.showModulus(\"\")\n",
    "# zapisane jako dft_sin1_ex.png"
   ]
  },
  {
   "cell_type": "code",
   "execution_count": 10,
   "id": "cc1020c3-7fe0-4366-ab02-07cb751915f5",
   "metadata": {},
   "outputs": [],
   "source": [
    "revdft = signal_processing.reverseDFT(dft)\n",
    "revdft.show(\"\")\n",
    "#zapisane jako revdft_ex.png"
   ]
  },
  {
   "cell_type": "markdown",
   "id": "09d80446-5c8d-4d1e-8e77-a43f47d2a392",
   "metadata": {},
   "source": [
    "- sin(10t)"
   ]
  },
  {
   "cell_type": "code",
   "execution_count": 12,
   "id": "3fa138d8-2de9-4f5e-86c4-a9014414c3d0",
   "metadata": {},
   "outputs": [],
   "source": [
    "wave_chrs = signal_processing.Wave(10,1,0)\n",
    "signal = signal_processing.Signal(0,100,1000,signal_processing.sin(wave_chrs))\n",
    "signal.show(\"\")\n",
    "#zapisane jako sin10_ex.png"
   ]
  },
  {
   "cell_type": "code",
   "execution_count": 14,
   "id": "e4630b82-718c-43aa-a8c6-5a0ecf50ebcc",
   "metadata": {},
   "outputs": [],
   "source": [
    "dft = signal_processing.DFTSignal(signal)\n",
    "dft.showModulus(\"\")\n",
    "#zapisane jako dft_sin10_ex.png"
   ]
  },
  {
   "cell_type": "code",
   "execution_count": 15,
   "id": "2aa17ceb-b08c-4806-9473-df6ce07f81df",
   "metadata": {},
   "outputs": [],
   "source": [
    "revdft = revdft = signal_processing.reverseDFT(dft)\n",
    "revdft.show(\"\")\n",
    "#zapisane jako revdft_sin10_ex.png"
   ]
  },
  {
   "cell_type": "markdown",
   "id": "00f6fe2f-81b3-4b85-81a7-ce9b34d72f14",
   "metadata": {},
   "source": [
    "# Progowanie sygnału\n",
    "Przykład implementacji funkcji odpowiedzialnej za progowanie sygnału."
   ]
  },
  {
   "cell_type": "code",
   "execution_count": 18,
   "id": "3fb47176-0553-4d2b-8f47-0f7179ed775e",
   "metadata": {},
   "outputs": [],
   "source": [
    "wave_chrs = signal_processing.Wave(1,1,0)\n",
    "signal = signal_processing.Signal(0,100,1000,signal_processing.sin(wave_chrs))\n",
    "#ustawienie progu \n",
    "threshold = signal_processing.threshold(signal, 0.3)\n",
    "threshold.show(\"\")\n",
    "#zapisane jako threshold_ex.png"
   ]
  },
  {
   "cell_type": "code",
   "execution_count": null,
   "id": "d56772c4-2962-49d3-87b2-79aead816b63",
   "metadata": {},
   "outputs": [],
   "source": []
  }
 ],
 "metadata": {
  "kernelspec": {
   "display_name": "Python 3 (ipykernel)",
   "language": "python",
   "name": "python3"
  },
  "language_info": {
   "codemirror_mode": {
    "name": "ipython",
    "version": 3
   },
   "file_extension": ".py",
   "mimetype": "text/x-python",
   "name": "python",
   "nbconvert_exporter": "python",
   "pygments_lexer": "ipython3",
   "version": "3.12.3"
  }
 },
 "nbformat": 4,
 "nbformat_minor": 5
}
